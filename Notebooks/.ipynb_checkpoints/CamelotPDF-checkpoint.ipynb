{
 "cells": [
  {
   "cell_type": "markdown",
   "id": "3b5a9eea",
   "metadata": {},
   "source": [
    "# Camelot PDF processing"
   ]
  },
  {
   "cell_type": "code",
   "execution_count": 1,
   "id": "7844d1e0",
   "metadata": {},
   "outputs": [],
   "source": [
    "import camelot\n",
    "import pandas as pd"
   ]
  },
  {
   "cell_type": "code",
   "execution_count": 2,
   "id": "8338a39b",
   "metadata": {},
   "outputs": [],
   "source": [
    "pdfPages = camelot.read_pdf(\"data/pdf_tables.pdf\", pages='all')"
   ]
  },
  {
   "cell_type": "code",
   "execution_count": 3,
   "id": "882233e1",
   "metadata": {},
   "outputs": [
    {
     "name": "stdout",
     "output_type": "stream",
     "text": [
      "<TableList n=58>\n"
     ]
    }
   ],
   "source": [
    "print(pdfPages)"
   ]
  },
  {
   "cell_type": "markdown",
   "id": "8ca9068c",
   "metadata": {},
   "source": [
    "1 страница. Фация (54 столбец), примечание (56 столбец)"
   ]
  },
  {
   "cell_type": "code",
   "execution_count": 67,
   "id": "2154a771",
   "metadata": {},
   "outputs": [
    {
     "data": {
      "text/plain": [
       "'Отложения межрусловых \\nплощадей'"
      ]
     },
     "execution_count": 67,
     "metadata": {},
     "output_type": "execute_result"
    }
   ],
   "source": [
    "pdfPages[1].df[51][26]"
   ]
  },
  {
   "cell_type": "code",
   "execution_count": 78,
   "id": "bb45ca86",
   "metadata": {},
   "outputs": [
    {
     "data": {
      "text/plain": [
       "'Песчаник тонко- мелкозернистый серый, с \\nкарбонатным цементом в верхней части и \\nглинистым снизу. Текстуры: массивная. \\nНемногочисленный УРД.'"
      ]
     },
     "execution_count": 78,
     "metadata": {},
     "output_type": "execute_result"
    }
   ],
   "source": [
    "pdfPages[1].df[53][22]"
   ]
  },
  {
   "cell_type": "code",
   "execution_count": 60,
   "id": "ff5008d0",
   "metadata": {},
   "outputs": [
    {
     "name": "stdout",
     "output_type": "stream",
     "text": [
      "8\n",
      "Страница         из \n",
      "3677 - 3691 м, 3773 - 3786 м\n",
      "Примечание--\n",
      "\n",
      "подчёркнуты УРД.--\n",
      "\n",
      "Песчаник тонко- мелкозернистый серый, с \n",
      "карбонатным цементом в верхней части и \n",
      "глинистым снизу. Текстуры: массивная. \n",
      "Немногочисленный УРД.--\n",
      "\n",
      "Алевролит глинистый с прослоями и линзами \n",
      "песчаника тонкозернистого и аргиллита. В \n",
      "песчаниках цемент карбонатный. Текстуры:--\n",
      "\n",
      "тонкая линзовидная слоистость, по всему \n",
      "слою градационная слоистость, в песчаниках \n",
      "ряби течений. По всему интервалу УРД.--\n",
      "\n",
      "Песчаник тонкозернистый серый, с \n",
      "прослоями алевролита глинистого и \n",
      "аргиллита. Цемент глинистый. Текстуры:--\n",
      "\n",
      "деформационная, рябь течений, тонкая \n",
      "линзовидная слоистость. Интракласты \n",
      "аргиллита.--\n",
      "\n",
      "Аргиллит с линзами алевролита глинистого. \n",
      "Текстуры:  тонкая линзовидная слоистость.--\n",
      "\n",
      "Песчаник тонкозернистый серый, с \n",
      "прослоями алевролита глинистого и \n",
      "аргиллита. Цемент глинистый. Текстуры:--\n",
      "\n",
      "рябь течений, тонкая линзовидная \n",
      "слоистость, градационная. УРД подчеркивает \n",
      "слоистость. Интракласты аргиллита по--\n",
      "\n",
      "интервалу.--\n",
      "\n",
      "Алевролит глинистый с линзами и прослоями \n",
      "аргиллита и песчаника тонкозернистого. \n",
      "Текстуры: тонкая линзовидная слоистость с \n",
      "крупными многочисленными деформациями.--\n",
      "\n"
     ]
    }
   ],
   "source": [
    "for row in pdfPages[1].df[53]:\n",
    "    if row != '' : print(row + \"--\\n\")"
   ]
  },
  {
   "cell_type": "markdown",
   "id": "0a595bd5",
   "metadata": {},
   "source": [
    "Ищем колонку и строку с интерпретацией"
   ]
  },
  {
   "cell_type": "code",
   "execution_count": 17,
   "id": "89acf09f",
   "metadata": {},
   "outputs": [],
   "source": [
    "def get_interpretationColumn(page):\n",
    "    pageLength = len(page.df.columns)\n",
    "    for column in range (pageLength - 7, pageLength):\n",
    "        value = page.df.index[page.df[column].str.contains(\"Интерпретация\")]\n",
    "        if not value.empty:\n",
    "            return column"
   ]
  },
  {
   "cell_type": "code",
   "execution_count": 18,
   "id": "db8d9ba1",
   "metadata": {},
   "outputs": [
    {
     "data": {
      "text/plain": [
       "51"
      ]
     },
     "execution_count": 18,
     "metadata": {},
     "output_type": "execute_result"
    }
   ],
   "source": [
    "get_interpretationColumn(pdfPages[1])"
   ]
  },
  {
   "cell_type": "code",
   "execution_count": 32,
   "id": "427cfb1d",
   "metadata": {},
   "outputs": [],
   "source": [
    "def get_interpretationRow(page, index):\n",
    "    for row in range(len(page.df[index])):\n",
    "        if page.df[index][row] == \"Интерпретация\": \n",
    "            return row"
   ]
  },
  {
   "cell_type": "code",
   "execution_count": 33,
   "id": "73042fb5",
   "metadata": {},
   "outputs": [
    {
     "data": {
      "text/plain": [
       "2"
      ]
     },
     "execution_count": 33,
     "metadata": {},
     "output_type": "execute_result"
    }
   ],
   "source": [
    "get_interpretationRow(pdfPages[1], 51)"
   ]
  },
  {
   "cell_type": "code",
   "execution_count": 52,
   "id": "55dca3ec",
   "metadata": {},
   "outputs": [],
   "source": [
    "def get_facies(page, index):\n",
    "    indexes_list =[]\n",
    "    start = get_interpretationRow(pdfPages[1], 51)+1\n",
    "    for row in range(start, len(page.df[index])):\n",
    "        if page.df[index][row] != '': \n",
    "            indexes_list.append(row)\n",
    "    return indexes_list"
   ]
  },
  {
   "cell_type": "code",
   "execution_count": 53,
   "id": "3a90fd53",
   "metadata": {},
   "outputs": [
    {
     "data": {
      "text/plain": [
       "[17, 22, 26, 36, 38, 41, 46]"
      ]
     },
     "execution_count": 53,
     "metadata": {},
     "output_type": "execute_result"
    }
   ],
   "source": [
    "get_facies(pdfPages[1], 51)"
   ]
  },
  {
   "cell_type": "code",
   "execution_count": null,
   "id": "0c302928",
   "metadata": {},
   "outputs": [],
   "source": []
  }
 ],
 "metadata": {
  "kernelspec": {
   "display_name": "Python 3 (ipykernel)",
   "language": "python",
   "name": "python3"
  },
  "language_info": {
   "codemirror_mode": {
    "name": "ipython",
    "version": 3
   },
   "file_extension": ".py",
   "mimetype": "text/x-python",
   "name": "python",
   "nbconvert_exporter": "python",
   "pygments_lexer": "ipython3",
   "version": "3.9.12"
  }
 },
 "nbformat": 4,
 "nbformat_minor": 5
}
