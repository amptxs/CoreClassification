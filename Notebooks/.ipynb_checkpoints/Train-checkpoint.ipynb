{
 "cells": [
  {
   "cell_type": "code",
   "execution_count": 5,
   "id": "f21fde90",
   "metadata": {},
   "outputs": [],
   "source": [
    "import pandas as pd\n",
    "import numpy as np\n",
    "import os"
   ]
  },
  {
   "cell_type": "code",
   "execution_count": 82,
   "id": "00df9cd7",
   "metadata": {},
   "outputs": [],
   "source": [
    "import numpy\n",
    "import xgboost\n",
    "from sklearn.model_selection import train_test_split\n",
    "from sklearn.metrics import accuracy_score\n",
    "from sklearn.feature_extraction.text import CountVectorizer\n",
    "from sklearn.preprocessing import LabelEncoder"
   ]
  },
  {
   "cell_type": "code",
   "execution_count": 9,
   "id": "4d15fef2",
   "metadata": {},
   "outputs": [],
   "source": [
    "os.chdir(\"../\")"
   ]
  },
  {
   "cell_type": "code",
   "execution_count": 39,
   "id": "1d434ad0",
   "metadata": {},
   "outputs": [],
   "source": [
    "df = pd.read_csv('Data/tablesAll.csv', sep=';', encoding='windows-1251', header=None)"
   ]
  },
  {
   "cell_type": "code",
   "execution_count": 40,
   "id": "13fac680",
   "metadata": {},
   "outputs": [],
   "source": [
    "df[0] = df[0].str.lower()"
   ]
  },
  {
   "cell_type": "code",
   "execution_count": 67,
   "id": "7880d015",
   "metadata": {},
   "outputs": [
    {
     "name": "stdout",
     "output_type": "stream",
     "text": [
      "дистальный прирусловой вал                      34\n",
      "проксимальный прирусловой вал                   20\n",
      "питающий канал                                  20\n",
      "отложения межрусловых площадей                  18\n",
      "подводный канал промоины                        12\n",
      "фронтальная зона проксимальной части лопасти    12\n",
      "нижний мелководно-морской шельф                  9\n",
      "подводный конус выноса промоины                  8\n",
      "дистальный прирусловый вал                       7\n",
      "приливно-отливная отмель                         7\n",
      "русловые отмели меандрирующих рек                5\n",
      "проксимальный прирусловый вал                    5\n",
      "фронтальная зона дистальной части лопасти        5\n",
      "окраинная часть канала                           5\n",
      "приливно-отливный канал                          5\n",
      "фронтальная зона средней части лопасти           5\n",
      "дистальный конус выноса дельты                   4\n",
      "прирусловой вал                                  3\n",
      "пески разливов                                   3\n",
      "временно заливаемые участки пойм                 3\n",
      "латеральная зона средней части лопасти           3\n",
      "открытый шельф                                   2\n",
      "латеральная зона проксимальной части лопасти     2\n",
      "канал промоины                                   2\n",
      "верхний мелководно-морской шельф                 2\n",
      "прибрежная равнина                               1\n",
      "отмирание канала                                 1\n",
      "нижняя пред-фронтальная зона пляжа               1\n",
      "средний конус выноса дельты                      1\n",
      "средняя предфронтальая зона пляжа                1\n",
      "латеральная зона дистальной части лопасти        1\n",
      "Name: 0, dtype: int64\n"
     ]
    }
   ],
   "source": [
    "print(df[0].value_counts())"
   ]
  },
  {
   "cell_type": "code",
   "execution_count": 135,
   "id": "3ccf203c",
   "metadata": {},
   "outputs": [],
   "source": [
    "X = df[1]\n",
    "Y = df[0]"
   ]
  },
  {
   "cell_type": "code",
   "execution_count": 136,
   "id": "fce8af8d",
   "metadata": {},
   "outputs": [],
   "source": [
    "cv = CountVectorizer(lowercase=False)\n",
    "cv.fit(X) # find all the unique words from the training set\n",
    "X = cv.transform(X)\n",
    "\n",
    "le = LabelEncoder()\n",
    "Y_encoded = le.fit_transform(Y)\n",
    "le_name_mapping = dict(zip(Y_encoded, Y))"
   ]
  },
  {
   "cell_type": "code",
   "execution_count": 137,
   "id": "b8bdb17f",
   "metadata": {},
   "outputs": [
    {
     "name": "stdout",
     "output_type": "stream",
     "text": [
      "{0: 'верхний мелководно-морской шельф', 1: 'временно заливаемые участки пойм', 2: 'дистальный конус выноса дельты', 3: 'дистальный прирусловой вал', 4: 'дистальный прирусловый вал', 5: 'канал промоины', 6: 'латеральная зона дистальной части лопасти', 7: 'латеральная зона проксимальной части лопасти', 8: 'латеральная зона средней части лопасти', 9: 'нижний мелководно-морской шельф', 10: 'нижняя пред-фронтальная зона пляжа', 11: 'окраинная часть канала', 12: 'открытый шельф', 13: 'отложения межрусловых площадей', 14: 'отмирание канала', 15: 'пески разливов', 16: 'питающий канал', 17: 'подводный канал промоины', 18: 'подводный конус выноса промоины', 19: 'прибрежная равнина', 20: 'приливно-отливная отмель', 21: 'приливно-отливный канал', 22: 'прирусловой вал', 23: 'проксимальный прирусловой вал', 24: 'проксимальный прирусловый вал', 25: 'русловые отмели меандрирующих рек', 26: 'средний конус выноса дельты', 27: 'средняя предфронтальая зона пляжа', 28: 'фронтальная зона дистальной части лопасти', 29: 'фронтальная зона проксимальной части лопасти', 30: 'фронтальная зона средней части лопасти'}\n"
     ]
    }
   ],
   "source": [
    "print(le_name_mapping)"
   ]
  },
  {
   "cell_type": "code",
   "execution_count": 138,
   "id": "95d46459",
   "metadata": {},
   "outputs": [],
   "source": [
    "X_train, X_test, y_train, y_test = train_test_split(X, Y_encoded, test_size=0.20, random_state=12)"
   ]
  },
  {
   "cell_type": "code",
   "execution_count": 154,
   "id": "6be13493",
   "metadata": {},
   "outputs": [
    {
     "data": {
      "text/plain": [
       "XGBClassifier(base_score=0.5, booster='gbtree', callbacks=None,\n",
       "              colsample_bylevel=1, colsample_bynode=1, colsample_bytree=1,\n",
       "              early_stopping_rounds=None, enable_categorical=False,\n",
       "              eval_metric=None, feature_types=None, gamma=0, gpu_id=-1,\n",
       "              grow_policy='depthwise', importance_type=None,\n",
       "              interaction_constraints='', learning_rate=0.1, max_bin=256,\n",
       "              max_cat_threshold=64, max_cat_to_onehot=4, max_delta_step=0,\n",
       "              max_depth=8, max_leaves=0, min_child_weight=1, missing=nan,\n",
       "              monotone_constraints='()', n_estimators=256, n_jobs=0,\n",
       "              num_parallel_tree=1, objective='multi:softprob', predictor='auto', ...)"
      ]
     },
     "execution_count": 154,
     "metadata": {},
     "output_type": "execute_result"
    }
   ],
   "source": [
    "model = xgboost.XGBClassifier(n_estimators = 256, learning_rate = 0.1, max_depth = 8)\n",
    "model.fit(X_train, y_train)"
   ]
  },
  {
   "cell_type": "code",
   "execution_count": 155,
   "id": "0adbdd8b",
   "metadata": {},
   "outputs": [
    {
     "name": "stdout",
     "output_type": "stream",
     "text": [
      "Accuracy: 40.48%\n"
     ]
    }
   ],
   "source": [
    "y_pred = model.predict(X_test)\n",
    "predictions = [round(value) for value in y_pred]\n",
    "accuracy = accuracy_score(y_test, predictions)\n",
    "print(\"Accuracy: %.2f%%\" % (accuracy * 100.0))"
   ]
  },
  {
   "cell_type": "code",
   "execution_count": 157,
   "id": "f82455c7",
   "metadata": {},
   "outputs": [],
   "source": [
    "testData = [\"В нижней части преимущественно алевролиты глинистые до аргиллита с редкими прослоями (до 10 см) песчаника тонко-зернистого с интракластами аргиллита. В верхней части преимущественно алевролит песчанистый до песчаника тонко-зернистого с прослоями алевролита глинистого. По всему слою многочисленные деформационные текстуры (оползания, микросдвиги), песчаник обогащен УРСМ.\"]"
   ]
  },
  {
   "cell_type": "code",
   "execution_count": 158,
   "id": "d4c40c3e",
   "metadata": {},
   "outputs": [],
   "source": [
    "testData = cv.transform(testData)"
   ]
  },
  {
   "cell_type": "code",
   "execution_count": 159,
   "id": "930a8fba",
   "metadata": {},
   "outputs": [
    {
     "name": "stdout",
     "output_type": "stream",
     "text": [
      "подводный канал промоины\n"
     ]
    }
   ],
   "source": [
    "test = model.predict(testData)\n",
    "print(le_name_mapping[test[0]])"
   ]
  },
  {
   "cell_type": "code",
   "execution_count": null,
   "id": "3991ff29",
   "metadata": {},
   "outputs": [],
   "source": []
  }
 ],
 "metadata": {
  "kernelspec": {
   "display_name": "Python 3 (ipykernel)",
   "language": "python",
   "name": "python3"
  },
  "language_info": {
   "codemirror_mode": {
    "name": "ipython",
    "version": 3
   },
   "file_extension": ".py",
   "mimetype": "text/x-python",
   "name": "python",
   "nbconvert_exporter": "python",
   "pygments_lexer": "ipython3",
   "version": "3.9.12"
  }
 },
 "nbformat": 4,
 "nbformat_minor": 5
}
