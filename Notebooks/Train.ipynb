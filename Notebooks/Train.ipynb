{
 "cells": [
  {
   "cell_type": "code",
   "execution_count": 665,
   "id": "043391dc",
   "metadata": {},
   "outputs": [],
   "source": [
    "import pandas as pd\n",
    "import numpy as np\n",
    "import os\n",
    "import pickle"
   ]
  },
  {
   "cell_type": "code",
   "execution_count": 202,
   "id": "2407ad5f",
   "metadata": {},
   "outputs": [],
   "source": [
    "import numpy\n",
    "import xgboost\n",
    "from sklearn.model_selection import train_test_split\n",
    "from sklearn.metrics import accuracy_score\n",
    "from sklearn.feature_extraction.text import CountVectorizer\n",
    "from sklearn.preprocessing import LabelEncoder"
   ]
  },
  {
   "cell_type": "code",
   "execution_count": 542,
   "id": "cc708200",
   "metadata": {},
   "outputs": [
    {
     "name": "stdout",
     "output_type": "stream",
     "text": [
      "<module 'ntpath' from 'D:\\\\Anaconda\\\\lib\\\\ntpath.py'>\n"
     ]
    }
   ],
   "source": [
    "print(os.path)"
   ]
  },
  {
   "cell_type": "code",
   "execution_count": 543,
   "id": "46d0f9ad",
   "metadata": {},
   "outputs": [],
   "source": [
    "df = pd.read_csv('C:/Users/Alexander/Desktop/Проект/CoreClassification/Data/tablesBalanced.csv', sep=';', encoding='windows-1251', header=None)"
   ]
  },
  {
   "cell_type": "code",
   "execution_count": 544,
   "id": "fefb5511",
   "metadata": {},
   "outputs": [],
   "source": [
    "df[0] = df[0].str.lower()"
   ]
  },
  {
   "cell_type": "code",
   "execution_count": 545,
   "id": "da954988",
   "metadata": {},
   "outputs": [
    {
     "name": "stdout",
     "output_type": "stream",
     "text": [
      "дистальный прирусловой вал                      55\n",
      "проксимальный прирусловой вал                   37\n",
      "отложения межрусловых площадей                  33\n",
      "питающий канал                                  29\n",
      "фронтальная зона проксимальной части лопасти    18\n",
      "Name: 0, dtype: int64\n"
     ]
    }
   ],
   "source": [
    "print(df[0].value_counts())"
   ]
  },
  {
   "cell_type": "code",
   "execution_count": 546,
   "id": "05a259ac",
   "metadata": {},
   "outputs": [],
   "source": [
    "X = df[1]\n",
    "Y = df[0]"
   ]
  },
  {
   "cell_type": "code",
   "execution_count": 547,
   "id": "92b587b7",
   "metadata": {},
   "outputs": [],
   "source": [
    "cv = CountVectorizer(lowercase=False)\n",
    "cv.fit(X) # find all the unique words from the training set\n",
    "X = cv.transform(X)\n",
    "\n",
    "le = LabelEncoder()\n",
    "Y_encoded = le.fit_transform(Y)\n",
    "le_name_mapping = dict(zip(Y_encoded, Y))"
   ]
  },
  {
   "cell_type": "code",
   "execution_count": 548,
   "id": "ca0962ad",
   "metadata": {},
   "outputs": [
    {
     "name": "stdout",
     "output_type": "stream",
     "text": [
      "{0: 'дистальный прирусловой вал', 1: 'отложения межрусловых площадей', 2: 'питающий канал', 3: 'проксимальный прирусловой вал', 4: 'фронтальная зона проксимальной части лопасти'}\n"
     ]
    }
   ],
   "source": [
    "print(le_name_mapping)"
   ]
  },
  {
   "cell_type": "code",
   "execution_count": 549,
   "id": "d7174c7a",
   "metadata": {},
   "outputs": [],
   "source": [
    "X_train, X_test, y_train, y_test = train_test_split(X, Y_encoded, test_size=0.20, random_state=7)"
   ]
  },
  {
   "cell_type": "code",
   "execution_count": 550,
   "id": "7e8264b4",
   "metadata": {},
   "outputs": [
    {
     "data": {
      "text/plain": [
       "XGBClassifier(base_score=0.5, booster='gbtree', callbacks=None,\n",
       "              colsample_bylevel=1, colsample_bynode=1, colsample_bytree=1,\n",
       "              early_stopping_rounds=None, enable_categorical=False,\n",
       "              eval_metric=None, feature_types=None, gamma=0, gpu_id=-1,\n",
       "              grow_policy='depthwise', importance_type=None,\n",
       "              interaction_constraints='', learning_rate=0.01, max_bin=256,\n",
       "              max_cat_threshold=64, max_cat_to_onehot=4, max_delta_step=0,\n",
       "              max_depth=4, max_leaves=0, min_child_weight=1, missing=nan,\n",
       "              monotone_constraints='()', n_estimators=128, n_jobs=0,\n",
       "              num_parallel_tree=1, objective='multi:softprob', predictor='auto', ...)"
      ]
     },
     "execution_count": 550,
     "metadata": {},
     "output_type": "execute_result"
    }
   ],
   "source": [
    "model = xgboost.XGBClassifier(n_estimators = 128, learning_rate = 0.01, max_depth = 4)\n",
    "model.fit(X_train, y_train)"
   ]
  },
  {
   "cell_type": "code",
   "execution_count": 551,
   "id": "77e92872",
   "metadata": {},
   "outputs": [
    {
     "name": "stdout",
     "output_type": "stream",
     "text": [
      "Accuracy: 51.43%\n"
     ]
    }
   ],
   "source": [
    "y_pred = model.predict(X_test)\n",
    "predictions = [round(value) for value in y_pred]\n",
    "accuracy = accuracy_score(y_test, predictions)\n",
    "print(\"Accuracy: %.2f%%\" % (accuracy * 100.0))"
   ]
  },
  {
   "cell_type": "code",
   "execution_count": 660,
   "id": "7e1ee247",
   "metadata": {},
   "outputs": [],
   "source": [
    "testData = [\"Песчаник мелко-тонкозернистый до тонкозернистого с карбонатным и глинисто\u0002карбонатным цементом. Текстуры: массивная, горизонтально-слоистая, рябь течений, единичные прослои с деформациями, фито-детритовые импульсы.\"]"
   ]
  },
  {
   "cell_type": "code",
   "execution_count": 661,
   "id": "35d23847",
   "metadata": {},
   "outputs": [],
   "source": [
    "testData = cv.transform(testData)"
   ]
  },
  {
   "cell_type": "code",
   "execution_count": 662,
   "id": "92cb7f1a",
   "metadata": {},
   "outputs": [],
   "source": [
    "probabilities = model.predict_proba(testData)"
   ]
  },
  {
   "cell_type": "code",
   "execution_count": 663,
   "id": "da174de6",
   "metadata": {},
   "outputs": [],
   "source": [
    "arr = np.empty((0, 2))\n",
    "for n in range(len(probabilities[0])):\n",
    "    arr = np.append(arr, np.array([[le_name_mapping[n], probabilities[0][n]]]), axis=0)"
   ]
  },
  {
   "cell_type": "code",
   "execution_count": 664,
   "id": "013909f5",
   "metadata": {},
   "outputs": [
    {
     "name": "stdout",
     "output_type": "stream",
     "text": [
      "[['питающий канал' '0.5253186']\n",
      " ['фронтальная зона проксимальной части лопасти' '0.16393165']\n",
      " ['отложения межрусловых площадей' '0.10797015']\n",
      " ['проксимальный прирусловой вал' '0.10665176']\n",
      " ['дистальный прирусловой вал' '0.096127786']]\n"
     ]
    }
   ],
   "source": [
    "print(arr[arr[:,1].argsort()[::-1]])"
   ]
  },
  {
   "cell_type": "code",
   "execution_count": 667,
   "id": "e856782f",
   "metadata": {},
   "outputs": [],
   "source": [
    "filename = 'C:/Users/Alexander/Desktop/Проект/CoreClassification/Data/xgbModel.sav'\n",
    "pickle.dump(model, open(filename, 'wb'))"
   ]
  },
  {
   "cell_type": "code",
   "execution_count": 669,
   "id": "e03e8731",
   "metadata": {},
   "outputs": [
    {
     "name": "stdout",
     "output_type": "stream",
     "text": [
      "дистальный прирусловой вал\n"
     ]
    }
   ],
   "source": [
    "print(arr[0][0])"
   ]
  },
  {
   "cell_type": "code",
   "execution_count": null,
   "id": "ab4e7cfd",
   "metadata": {},
   "outputs": [],
   "source": []
  }
 ],
 "metadata": {
  "kernelspec": {
   "display_name": "Python 3 (ipykernel)",
   "language": "python",
   "name": "python3"
  },
  "language_info": {
   "codemirror_mode": {
    "name": "ipython",
    "version": 3
   },
   "file_extension": ".py",
   "mimetype": "text/x-python",
   "name": "python",
   "nbconvert_exporter": "python",
   "pygments_lexer": "ipython3",
   "version": "3.9.12"
  }
 },
 "nbformat": 4,
 "nbformat_minor": 5
}
